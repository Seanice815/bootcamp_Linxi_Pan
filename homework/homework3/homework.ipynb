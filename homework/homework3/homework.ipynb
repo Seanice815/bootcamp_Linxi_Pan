{
 "cells": [
  {
   "cell_type": "markdown",
   "id": "45606c7e",
   "metadata": {},
   "source": [
    "# 1. Numpy Operations"
   ]
  },
  {
   "cell_type": "code",
   "execution_count": 3,
   "id": "6fd5d502",
   "metadata": {},
   "outputs": [
    {
     "name": "stdout",
     "output_type": "stream",
     "text": [
      "originally array: [1 2 3 4 5]\n",
      "Every element +10: [11 12 13 14 15]\n",
      "square of every element: [ 1  4  9 16 25]\n",
      "loop square every element: [np.int64(1), np.int64(4), np.int64(9), np.int64(16), np.int64(25)]\n",
      "vectorized squre: [ 1  4  9 16 25]\n"
     ]
    }
   ],
   "source": [
    "import numpy as np\n",
    "# 1. create a Nimpy array\n",
    "arr = np.array([1, 2, 3, 4, 5])\n",
    "print(\"originally array:\", arr)\n",
    "\n",
    "# 2. perform basic operations\n",
    "# every element + 10\n",
    "arr_plus_10 = arr + 10\n",
    "print(\"Every element +10:\", arr_plus_10)\n",
    "\n",
    "# 3. square each element\n",
    "arr_squared = arr ** 2\n",
    "print(\"square of every element:\", arr_squared)\n",
    "\n",
    "# --------------------\n",
    "# loop method\n",
    "# --------------------\n",
    "loop_result = []\n",
    "for x in arr:\n",
    "    loop_result.append(x ** 2)\n",
    "print(\"loop square every element:\", loop_result)\n",
    "\n",
    "# --------------------\n",
    "# vecctorized method\n",
    "# --------------------\n",
    "vectorized_result = arr ** 2\n",
    "print(\"vectorized squre:\", vectorized_result)\n"
   ]
  },
  {
   "cell_type": "markdown",
   "id": "b7d96057",
   "metadata": {},
   "source": [
    "# 2. Dataset loading"
   ]
  },
  {
   "cell_type": "code",
   "execution_count": 6,
   "id": "16cf2e9d",
   "metadata": {},
   "outputs": [
    {
     "data": {
      "text/html": [
       "<div>\n",
       "<style scoped>\n",
       "    .dataframe tbody tr th:only-of-type {\n",
       "        vertical-align: middle;\n",
       "    }\n",
       "\n",
       "    .dataframe tbody tr th {\n",
       "        vertical-align: top;\n",
       "    }\n",
       "\n",
       "    .dataframe thead th {\n",
       "        text-align: right;\n",
       "    }\n",
       "</style>\n",
       "<table border=\"1\" class=\"dataframe\">\n",
       "  <thead>\n",
       "    <tr style=\"text-align: right;\">\n",
       "      <th></th>\n",
       "      <th>category</th>\n",
       "      <th>value</th>\n",
       "      <th>date</th>\n",
       "    </tr>\n",
       "  </thead>\n",
       "  <tbody>\n",
       "    <tr>\n",
       "      <th>0</th>\n",
       "      <td>A</td>\n",
       "      <td>10</td>\n",
       "      <td>2025-08-01</td>\n",
       "    </tr>\n",
       "    <tr>\n",
       "      <th>1</th>\n",
       "      <td>B</td>\n",
       "      <td>15</td>\n",
       "      <td>2025-08-02</td>\n",
       "    </tr>\n",
       "    <tr>\n",
       "      <th>2</th>\n",
       "      <td>A</td>\n",
       "      <td>12</td>\n",
       "      <td>2025-08-03</td>\n",
       "    </tr>\n",
       "    <tr>\n",
       "      <th>3</th>\n",
       "      <td>B</td>\n",
       "      <td>18</td>\n",
       "      <td>2025-08-04</td>\n",
       "    </tr>\n",
       "    <tr>\n",
       "      <th>4</th>\n",
       "      <td>C</td>\n",
       "      <td>25</td>\n",
       "      <td>2025-08-05</td>\n",
       "    </tr>\n",
       "    <tr>\n",
       "      <th>5</th>\n",
       "      <td>C</td>\n",
       "      <td>30</td>\n",
       "      <td>2025-08-06</td>\n",
       "    </tr>\n",
       "    <tr>\n",
       "      <th>6</th>\n",
       "      <td>A</td>\n",
       "      <td>11</td>\n",
       "      <td>2025-08-07</td>\n",
       "    </tr>\n",
       "    <tr>\n",
       "      <th>7</th>\n",
       "      <td>B</td>\n",
       "      <td>14</td>\n",
       "      <td>2025-08-08</td>\n",
       "    </tr>\n",
       "    <tr>\n",
       "      <th>8</th>\n",
       "      <td>C</td>\n",
       "      <td>28</td>\n",
       "      <td>2025-08-09</td>\n",
       "    </tr>\n",
       "    <tr>\n",
       "      <th>9</th>\n",
       "      <td>A</td>\n",
       "      <td>13</td>\n",
       "      <td>2025-08-10</td>\n",
       "    </tr>\n",
       "  </tbody>\n",
       "</table>\n",
       "</div>"
      ],
      "text/plain": [
       "  category  value        date\n",
       "0        A     10  2025-08-01\n",
       "1        B     15  2025-08-02\n",
       "2        A     12  2025-08-03\n",
       "3        B     18  2025-08-04\n",
       "4        C     25  2025-08-05\n",
       "5        C     30  2025-08-06\n",
       "6        A     11  2025-08-07\n",
       "7        B     14  2025-08-08\n",
       "8        C     28  2025-08-09\n",
       "9        A     13  2025-08-10"
      ]
     },
     "execution_count": 6,
     "metadata": {},
     "output_type": "execute_result"
    }
   ],
   "source": [
    "# 2. Dataset loading\n",
    "import pandas as pd\n",
    "# Load the dataset\n",
    "df = pd.read_csv(f\"/Users/seanice/Desktop/Bootcamp/bootcamp_Linxi_Pan/homework/homework3/starter_data.csv\")\n",
    "df"
   ]
  },
  {
   "cell_type": "code",
   "execution_count": 7,
   "id": "f7a58f37",
   "metadata": {},
   "outputs": [
    {
     "name": "stdout",
     "output_type": "stream",
     "text": [
      "<class 'pandas.core.frame.DataFrame'>\n",
      "RangeIndex: 10 entries, 0 to 9\n",
      "Data columns (total 3 columns):\n",
      " #   Column    Non-Null Count  Dtype \n",
      "---  ------    --------------  ----- \n",
      " 0   category  10 non-null     object\n",
      " 1   value     10 non-null     int64 \n",
      " 2   date      10 non-null     object\n",
      "dtypes: int64(1), object(2)\n",
      "memory usage: 372.0+ bytes\n"
     ]
    },
    {
     "data": {
      "text/plain": [
       "(  category  value        date\n",
       " 0        A     10  2025-08-01\n",
       " 1        B     15  2025-08-02\n",
       " 2        A     12  2025-08-03\n",
       " 3        B     18  2025-08-04\n",
       " 4        C     25  2025-08-05,\n",
       " None)"
      ]
     },
     "execution_count": 7,
     "metadata": {},
     "output_type": "execute_result"
    }
   ],
   "source": [
    "# showing head and info\n",
    "df.head(), df.info()"
   ]
  },
  {
   "cell_type": "markdown",
   "id": "d94869ce",
   "metadata": {},
   "source": [
    "# 3. Summary"
   ]
  },
  {
   "cell_type": "code",
   "execution_count": 8,
   "id": "6e0ebbdd",
   "metadata": {},
   "outputs": [
    {
     "name": "stdout",
     "output_type": "stream",
     "text": [
      "           value\n",
      "count  10.000000\n",
      "mean   17.600000\n",
      "std     7.381659\n",
      "min    10.000000\n",
      "25%    12.250000\n",
      "50%    14.500000\n",
      "75%    23.250000\n",
      "max    30.000000\n",
      "              value\n",
      "category           \n",
      "A         11.500000\n",
      "B         15.666667\n",
      "C         27.666667\n"
     ]
    }
   ],
   "source": [
    "# describe statistics\n",
    "summary_stats = df.describe()\n",
    "print(summary_stats)\n",
    "\n",
    "# group by category and calculate mean of numeric columns\n",
    "grouped_stats = df.groupby(\"category\").mean(numeric_only=True)\n",
    "print(grouped_stats)"
   ]
  },
  {
   "cell_type": "markdown",
   "id": "7eca4d88",
   "metadata": {},
   "source": [
    "# 4. Save & Reusable"
   ]
  },
  {
   "cell_type": "code",
   "execution_count": null,
   "id": "bc665a38",
   "metadata": {},
   "outputs": [
    {
     "data": {
      "image/png": "[encoded data removed]",
      "text/plain": [
       "<Figure size 640x480 with 1 Axes>"
      ]
     },
     "metadata": {},
     "output_type": "display_data"
    }
   ],
   "source": [
    "# Save Outputs to specified folder\n",
    "summary_stats.to_csv(\"/Users/seanice/Desktop/Bootcamp/bootcamp_Linxi_Pan/homework/homework3/summary.csv\", index=False)\n",
    "\n",
    "grouped_stats.to_json(\"/Users/seanice/Desktop/Bootcamp/bootcamp_Linxi_Pan/homework/homework3/grouped_summary.json\", orient=\"records\")\n",
    "\n",
    "# Bonus: Create and save a basic plot\n",
    "import matplotlib.pyplot as plt\n",
    "\n",
    "ax = grouped_stats.plot(kind=\"bar\")\n",
    "plt.title(\"Average by Category\")\n",
    "plt.ylabel(\"Value\")\n",
    "plt.xticks(rotation=0)\n",
    "plt.tight_layout()\n",
    "plt.savefig(\"/Users/seanice/Desktop/Bootcamp/bootcamp_Linxi_Pan/homework/homework3/grouped_plot.png\")\n",
    "plt.show()"
   ]
  },
  {
   "cell_type": "code",
   "execution_count": null,
   "id": "c4725b1a",
   "metadata": {},
   "outputs": [],
   "source": []
  }
 ],
 "metadata": {
  "kernelspec": {
   "display_name": "fe-course",
   "language": "python",
   "name": "python3"
  },
  "language_info": {
   "codemirror_mode": {
    "name": "ipython",
    "version": 3
   },
   "file_extension": ".py",
   "mimetype": "text/x-python",
   "name": "python",
   "nbconvert_exporter": "python",
   "pygments_lexer": "ipython3",
   "version": "3.11.13"
  }
 },
 "nbformat": 4,
 "nbformat_minor": 5
}
