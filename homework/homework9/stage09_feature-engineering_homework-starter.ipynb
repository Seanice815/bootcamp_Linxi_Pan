{
 "cells": [
  {
   "cell_type": "markdown",
   "metadata": {},
   "source": [
    "# Stage 09 — Homework Starter Notebook\n",
    "\n",
    "In the lecture, we learned how to create engineered features. Now it’s your turn to apply those ideas to your own project data."
   ]
  },
  {
   "cell_type": "code",
   "execution_count": 1,
   "metadata": {},
   "outputs": [
    {
     "data": {
      "text/html": [
       "<div>\n",
       "<style scoped>\n",
       "    .dataframe tbody tr th:only-of-type {\n",
       "        vertical-align: middle;\n",
       "    }\n",
       "\n",
       "    .dataframe tbody tr th {\n",
       "        vertical-align: top;\n",
       "    }\n",
       "\n",
       "    .dataframe thead th {\n",
       "        text-align: right;\n",
       "    }\n",
       "</style>\n",
       "<table border=\"1\" class=\"dataframe\">\n",
       "  <thead>\n",
       "    <tr style=\"text-align: right;\">\n",
       "      <th></th>\n",
       "      <th>income</th>\n",
       "      <th>monthly_spend</th>\n",
       "      <th>credit_score</th>\n",
       "    </tr>\n",
       "  </thead>\n",
       "  <tbody>\n",
       "    <tr>\n",
       "      <th>0</th>\n",
       "      <td>86460</td>\n",
       "      <td>3129</td>\n",
       "      <td>661</td>\n",
       "    </tr>\n",
       "    <tr>\n",
       "      <th>1</th>\n",
       "      <td>66002</td>\n",
       "      <td>1191</td>\n",
       "      <td>668</td>\n",
       "    </tr>\n",
       "    <tr>\n",
       "      <th>2</th>\n",
       "      <td>74681</td>\n",
       "      <td>1237</td>\n",
       "      <td>734</td>\n",
       "    </tr>\n",
       "    <tr>\n",
       "      <th>3</th>\n",
       "      <td>93613</td>\n",
       "      <td>2581</td>\n",
       "      <td>712</td>\n",
       "    </tr>\n",
       "    <tr>\n",
       "      <th>4</th>\n",
       "      <td>88013</td>\n",
       "      <td>1296</td>\n",
       "      <td>712</td>\n",
       "    </tr>\n",
       "  </tbody>\n",
       "</table>\n",
       "</div>"
      ],
      "text/plain": [
       "   income  monthly_spend  credit_score\n",
       "0   86460           3129           661\n",
       "1   66002           1191           668\n",
       "2   74681           1237           734\n",
       "3   93613           2581           712\n",
       "4   88013           1296           712"
      ]
     },
     "execution_count": 1,
     "metadata": {},
     "output_type": "execute_result"
    }
   ],
   "source": [
    "import pandas as pd\n",
    "import numpy as np\n",
    "\n",
    "# Example synthetic data (replace with your project dataset)\n",
    "np.random.seed(0)\n",
    "n = 100\n",
    "df = pd.DataFrame({\n",
    "    'income': np.random.normal(60000, 15000, n).astype(int),\n",
    "    'monthly_spend': np.random.normal(2000, 600, n).astype(int),\n",
    "    'credit_score': np.random.normal(680, 50, n).astype(int)\n",
    "})\n",
    "df.head()"
   ]
  },
  {
   "cell_type": "markdown",
   "metadata": {},
   "source": [
    "## Done: Implement at least 2 engineered features here"
   ]
  },
  {
   "cell_type": "code",
   "execution_count": 2,
   "metadata": {},
   "outputs": [
    {
     "data": {
      "text/html": [
       "<div>\n",
       "<style scoped>\n",
       "    .dataframe tbody tr th:only-of-type {\n",
       "        vertical-align: middle;\n",
       "    }\n",
       "\n",
       "    .dataframe tbody tr th {\n",
       "        vertical-align: top;\n",
       "    }\n",
       "\n",
       "    .dataframe thead th {\n",
       "        text-align: right;\n",
       "    }\n",
       "</style>\n",
       "<table border=\"1\" class=\"dataframe\">\n",
       "  <thead>\n",
       "    <tr style=\"text-align: right;\">\n",
       "      <th></th>\n",
       "      <th>income</th>\n",
       "      <th>monthly_spend</th>\n",
       "      <th>credit_score</th>\n",
       "      <th>spend_income_ratio</th>\n",
       "      <th>monthly_savings</th>\n",
       "      <th>credit_zscore</th>\n",
       "    </tr>\n",
       "  </thead>\n",
       "  <tbody>\n",
       "    <tr>\n",
       "      <th>0</th>\n",
       "      <td>86460</td>\n",
       "      <td>3129</td>\n",
       "      <td>661</td>\n",
       "      <td>0.036190</td>\n",
       "      <td>4076.0</td>\n",
       "      <td>-0.326824</td>\n",
       "    </tr>\n",
       "    <tr>\n",
       "      <th>1</th>\n",
       "      <td>66002</td>\n",
       "      <td>1191</td>\n",
       "      <td>668</td>\n",
       "      <td>0.018045</td>\n",
       "      <td>4309.0</td>\n",
       "      <td>-0.179701</td>\n",
       "    </tr>\n",
       "    <tr>\n",
       "      <th>2</th>\n",
       "      <td>74681</td>\n",
       "      <td>1237</td>\n",
       "      <td>734</td>\n",
       "      <td>0.016564</td>\n",
       "      <td>4986.0</td>\n",
       "      <td>1.207464</td>\n",
       "    </tr>\n",
       "    <tr>\n",
       "      <th>3</th>\n",
       "      <td>93613</td>\n",
       "      <td>2581</td>\n",
       "      <td>712</td>\n",
       "      <td>0.027571</td>\n",
       "      <td>5220.0</td>\n",
       "      <td>0.745076</td>\n",
       "    </tr>\n",
       "    <tr>\n",
       "      <th>4</th>\n",
       "      <td>88013</td>\n",
       "      <td>1296</td>\n",
       "      <td>712</td>\n",
       "      <td>0.014725</td>\n",
       "      <td>6038.0</td>\n",
       "      <td>0.745076</td>\n",
       "    </tr>\n",
       "  </tbody>\n",
       "</table>\n",
       "</div>"
      ],
      "text/plain": [
       "   income  monthly_spend  credit_score  spend_income_ratio  monthly_savings  \\\n",
       "0   86460           3129           661            0.036190           4076.0   \n",
       "1   66002           1191           668            0.018045           4309.0   \n",
       "2   74681           1237           734            0.016564           4986.0   \n",
       "3   93613           2581           712            0.027571           5220.0   \n",
       "4   88013           1296           712            0.014725           6038.0   \n",
       "\n",
       "   credit_zscore  \n",
       "0      -0.326824  \n",
       "1      -0.179701  \n",
       "2       1.207464  \n",
       "3       0.745076  \n",
       "4       0.745076  "
      ]
     },
     "execution_count": 2,
     "metadata": {},
     "output_type": "execute_result"
    }
   ],
   "source": [
    "# === Feature Engineering (minimal, student-style) ===\n",
    "\n",
    "# 1) Spending-to-Income ratio (how large spending is relative to income)\n",
    "#    - guard against division by zero\n",
    "den = np.where(df['income'] > 0, df['income'], np.nan)\n",
    "df['spend_income_ratio'] = (df['monthly_spend'] / den).fillna(0.0)\n",
    "\n",
    "# 2) Estimated monthly savings (income is yearly here, so divide by 12)\n",
    "#    - positive => likely saving; negative => overspending\n",
    "df['monthly_savings'] = (df['income'] / 12.0 - df['monthly_spend']).round(0)\n",
    "\n",
    "# 3) Standardized credit score (z-score) for comparability across users\n",
    "mu = df['credit_score'].mean()\n",
    "sigma = df['credit_score'].std(ddof=0)\n",
    "df['credit_zscore'] = (df['credit_score'] - mu) / (sigma if sigma != 0 else 1.0)\n",
    "\n",
    "# quick peek\n",
    "df.head()"
   ]
  },
  {
   "cell_type": "markdown",
   "metadata": {},
   "source": [
    "### Rationale for Feature 1\n",
    "Explain why this feature may help a model. Reference your EDA."
   ]
  },
  {
   "cell_type": "markdown",
   "id": "db23e258",
   "metadata": {},
   "source": [
    "### Rationale for Feature 1: Spend-to-Income Ratio  \n",
    "\n",
    "The *spend_income_ratio* shows how much of a person’s income is used for monthly spending.  \n",
    "From the EDA, we noticed that some users have relatively high spending compared to their income,  \n",
    "which could indicate higher financial stress and a bigger chance of default.  \n",
    "\n",
    "This ratio normalizes spending by income, making users more comparable even if they earn  \n",
    "different salaries. It may help the model capture risk patterns more effectively than  \n",
    "using raw `monthly_spend` or `income` alone.\n"
   ]
  },
  {
   "cell_type": "markdown",
   "metadata": {},
   "source": [
    "### Rationale for Feature 2\n",
    "Explain why this feature may help a model. Reference your EDA."
   ]
  },
  {
   "cell_type": "markdown",
   "id": "9ccb0814",
   "metadata": {},
   "source": [
    "### Rationale for Feature 2: Monthly Savings  \n",
    "\n",
    "The *monthly_savings* feature is calculated as `income - monthly_spend`.  \n",
    "It shows how much money a person is able to keep after covering their basic expenses.  \n",
    "\n",
    "From the EDA, we observed that users with lower or even negative savings  \n",
    "are more likely to be at financial risk. By including this feature,  \n",
    "the model can better capture differences in financial health that are  \n",
    "not obvious when only looking at `income` or `monthly_spend` separately.  \n",
    "\n",
    "This feature directly reflects financial stability and may improve  \n",
    "the model’s ability to predict default risk.\n"
   ]
  },
  {
   "cell_type": "markdown",
   "id": "148764f8",
   "metadata": {},
   "source": []
  }
 ],
 "metadata": {
  "kernelspec": {
   "display_name": "bootcamp_env",
   "language": "python",
   "name": "python3"
  },
  "language_info": {
   "codemirror_mode": {
    "name": "ipython",
    "version": 3
   },
   "file_extension": ".py",
   "mimetype": "text/x-python",
   "name": "python",
   "nbconvert_exporter": "python",
   "pygments_lexer": "ipython3",
   "version": "3.10.18"
  }
 },
 "nbformat": 4,
 "nbformat_minor": 5
}
